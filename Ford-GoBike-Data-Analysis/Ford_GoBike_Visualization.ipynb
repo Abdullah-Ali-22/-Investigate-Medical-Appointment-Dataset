{
 "cells": [
  {
   "cell_type": "markdown",
   "metadata": {
    "slideshow": {
     "slide_type": "slide"
    }
   },
   "source": [
    "# Analyzing the Ford Gobike Dataset\n",
    "## by Abdullah"
   ]
  },
  {
   "cell_type": "markdown",
   "metadata": {
    "slideshow": {
     "slide_type": "slide"
    }
   },
   "source": [
    "## Investigation Overview\n",
    "\n",
    "In this investigation I'm going to to look when Users start renting their bikes Also, how long their trip is affected by the users age and if the user gender is related to the user age and the trip duration.\n",
    "\n",
    "## Dataset Overview\n",
    "\n",
    "Ford Gobike Datasets a public bicycle sharing system represent trips taken by customers of the Ford Gobike service for the month of Feberaurary of 2019. <br>Currently has over 2,600 bicycles in 262 stations. Datasets consist of 16 columns and 183412 rows\n"
   ]
  },
  {
   "cell_type": "markdown",
   "metadata": {
    "slideshow": {
     "slide_type": "slide"
    }
   },
   "source": [
    "## Assoiacated Variables\n",
    "<br>duration_sec: Trip Duration (seconds).\n",
    "<br>start_time: Start Time and Date.\n",
    "<br>end_time: End Time and Date\n",
    "<br>start_station_id: Start Station ID\n",
    "<br>start_station_name: Start Station Name\n",
    "<br>start_station_latitude: Start Station Latitude\n",
    "<br>start_station_longitude: Start Station Longitude\n",
    "<br>end_station_id: End Station ID\n",
    "<br>end_station_name: End Station Name\n",
    "<br>end_station_latitude: End Station Latitude\n",
    "<br>end_station_longitude: End Station Longitude\n",
    "<br>bike_id: Bike ID\n",
    "<br>user_type: User Type (Subscriber or Customer)\n",
    "<br>member_birth_year: Member Year of Birth\n",
    "<br>member_gender: Member Gender\n",
    "<br>bike_share_for_all_trip: members  \"Bike Share for All\" program for low-income residents"
   ]
  },
  {
   "cell_type": "code",
   "execution_count": 1,
   "metadata": {
    "slideshow": {
     "slide_type": "skip"
    }
   },
   "outputs": [],
   "source": [
    "# import all packages and set plots to be embedded inline\n",
    "import numpy as np\n",
    "import pandas as pd\n",
    "import matplotlib.pyplot as plt\n",
    "import seaborn as sb\n",
    "\n",
    "%matplotlib inline\n",
    "\n",
    "# suppress warnings from final output\n",
    "import warnings\n",
    "warnings.simplefilter(\"ignore\")"
   ]
  },
  {
   "cell_type": "code",
   "execution_count": 2,
   "metadata": {
    "slideshow": {
     "slide_type": "skip"
    }
   },
   "outputs": [],
   "source": [
    "#read the Ford Gobike dataset\n",
    "fordgobike_data=pd.read_csv('201902-fordgobike-tripdata.csv')\n"
   ]
  },
  {
   "cell_type": "code",
   "execution_count": 3,
   "metadata": {
    "slideshow": {
     "slide_type": "skip"
    }
   },
   "outputs": [
    {
     "data": {
      "text/plain": [
       "0"
      ]
     },
     "execution_count": 3,
     "metadata": {},
     "output_type": "execute_result"
    }
   ],
   "source": [
    "#Check duplicates \n",
    "sum(fordgobike_data.duplicated())"
   ]
  },
  {
   "cell_type": "code",
   "execution_count": 4,
   "metadata": {
    "slideshow": {
     "slide_type": "skip"
    }
   },
   "outputs": [
    {
     "data": {
      "text/plain": [
       "duration_sec                  0\n",
       "start_time                    0\n",
       "end_time                      0\n",
       "start_station_id            197\n",
       "start_station_name          197\n",
       "start_station_latitude        0\n",
       "start_station_longitude       0\n",
       "end_station_id              197\n",
       "end_station_name            197\n",
       "end_station_latitude          0\n",
       "end_station_longitude         0\n",
       "bike_id                       0\n",
       "user_type                     0\n",
       "member_birth_year          8265\n",
       "member_gender              8265\n",
       "bike_share_for_all_trip       0\n",
       "dtype: int64"
      ]
     },
     "execution_count": 4,
     "metadata": {},
     "output_type": "execute_result"
    }
   ],
   "source": [
    "#Check the Null roes\n",
    "fordgobike_data.isnull().sum()"
   ]
  },
  {
   "cell_type": "code",
   "execution_count": 5,
   "metadata": {
    "slideshow": {
     "slide_type": "skip"
    }
   },
   "outputs": [
    {
     "data": {
      "text/plain": [
       "17318"
      ]
     },
     "execution_count": 5,
     "metadata": {},
     "output_type": "execute_result"
    }
   ],
   "source": [
    "#Sum of the Null rows\n",
    "fordgobike_data.isnull().sum().sum()"
   ]
  },
  {
   "cell_type": "code",
   "execution_count": 6,
   "metadata": {
    "slideshow": {
     "slide_type": "skip"
    }
   },
   "outputs": [],
   "source": [
    "#Drop the Null rows\n",
    "fordgobike_data.dropna(axis=0,inplace=True)"
   ]
  },
  {
   "cell_type": "code",
   "execution_count": 7,
   "metadata": {
    "slideshow": {
     "slide_type": "skip"
    }
   },
   "outputs": [
    {
     "data": {
      "text/plain": [
       "0"
      ]
     },
     "execution_count": 7,
     "metadata": {},
     "output_type": "execute_result"
    }
   ],
   "source": [
    "fordgobike_data.isnull().sum().sum()"
   ]
  },
  {
   "cell_type": "code",
   "execution_count": 8,
   "metadata": {
    "slideshow": {
     "slide_type": "skip"
    }
   },
   "outputs": [],
   "source": [
    "#Drop the unneceesary Columns for the Visualization \n",
    "fordgobike_data.drop(['start_station_latitude','start_station_longitude','end_station_latitude','end_station_longitude','bike_id'], axis=1, inplace=True)"
   ]
  },
  {
   "cell_type": "code",
   "execution_count": 9,
   "metadata": {
    "slideshow": {
     "slide_type": "skip"
    }
   },
   "outputs": [],
   "source": [
    "#Rrnae the column bike_share_for_all_trip to Enrolled_Bike_Share_Program to make the name more understandable\n",
    "fordgobike_data.rename(columns={'bike_share_for_all_trip':'Enrolled_in_Bike_Share_Program'},inplace=True)"
   ]
  },
  {
   "cell_type": "code",
   "execution_count": 10,
   "metadata": {
    "slideshow": {
     "slide_type": "skip"
    }
   },
   "outputs": [],
   "source": [
    "#Change the data type of the variable if required\n",
    "fordgobike_data['start_time']=fordgobike_data['start_time'].astype('datetime64')\n",
    "fordgobike_data['end_time']=fordgobike_data['end_time'].astype('datetime64')\n",
    "fordgobike_data['start_station_id']=fordgobike_data['start_station_id'].astype('int64')\n",
    "fordgobike_data['end_station_id']=fordgobike_data['end_station_id'].astype('int64')\n",
    "fordgobike_data['member_birth_year']=fordgobike_data['member_birth_year'].astype('int64')\n"
   ]
  },
  {
   "cell_type": "code",
   "execution_count": 11,
   "metadata": {
    "slideshow": {
     "slide_type": "skip"
    }
   },
   "outputs": [],
   "source": [
    "#Create a new variable with the member_age instead of the birth_year to see easier how affect the member_age\n",
    "fordgobike_data['member_age']=2021-fordgobike_data['member_birth_year']"
   ]
  },
  {
   "cell_type": "code",
   "execution_count": 12,
   "metadata": {
    "slideshow": {
     "slide_type": "skip"
    }
   },
   "outputs": [],
   "source": [
    "#Sort the start_time variable to check the first day and the last day of which data are collected\n",
    "fordgobike_data_sorted_date=fordgobike_data.sort_values('start_time')"
   ]
  },
  {
   "cell_type": "code",
   "execution_count": 13,
   "metadata": {
    "slideshow": {
     "slide_type": "skip"
    }
   },
   "outputs": [
    {
     "data": {
      "text/html": [
       "<div>\n",
       "<style scoped>\n",
       "    .dataframe tbody tr th:only-of-type {\n",
       "        vertical-align: middle;\n",
       "    }\n",
       "\n",
       "    .dataframe tbody tr th {\n",
       "        vertical-align: top;\n",
       "    }\n",
       "\n",
       "    .dataframe thead th {\n",
       "        text-align: right;\n",
       "    }\n",
       "</style>\n",
       "<table border=\"1\" class=\"dataframe\">\n",
       "  <thead>\n",
       "    <tr style=\"text-align: right;\">\n",
       "      <th></th>\n",
       "      <th>duration_sec</th>\n",
       "      <th>start_time</th>\n",
       "      <th>end_time</th>\n",
       "      <th>start_station_id</th>\n",
       "      <th>start_station_name</th>\n",
       "      <th>end_station_id</th>\n",
       "      <th>end_station_name</th>\n",
       "      <th>user_type</th>\n",
       "      <th>member_birth_year</th>\n",
       "      <th>member_gender</th>\n",
       "      <th>Enrolled_in_Bike_Share_Program</th>\n",
       "      <th>member_age</th>\n",
       "    </tr>\n",
       "  </thead>\n",
       "  <tbody>\n",
       "    <tr>\n",
       "      <th>183411</th>\n",
       "      <td>271</td>\n",
       "      <td>2019-02-01 00:00:20.636</td>\n",
       "      <td>2019-02-01 00:04:52.058</td>\n",
       "      <td>24</td>\n",
       "      <td>Spear St at Folsom St</td>\n",
       "      <td>37</td>\n",
       "      <td>2nd St at Folsom St</td>\n",
       "      <td>Subscriber</td>\n",
       "      <td>1989</td>\n",
       "      <td>Male</td>\n",
       "      <td>No</td>\n",
       "      <td>32</td>\n",
       "    </tr>\n",
       "  </tbody>\n",
       "</table>\n",
       "</div>"
      ],
      "text/plain": [
       "        duration_sec              start_time                end_time  \\\n",
       "183411           271 2019-02-01 00:00:20.636 2019-02-01 00:04:52.058   \n",
       "\n",
       "        start_station_id     start_station_name  end_station_id  \\\n",
       "183411                24  Spear St at Folsom St              37   \n",
       "\n",
       "           end_station_name   user_type  member_birth_year member_gender  \\\n",
       "183411  2nd St at Folsom St  Subscriber               1989          Male   \n",
       "\n",
       "       Enrolled_in_Bike_Share_Program  member_age  \n",
       "183411                             No          32  "
      ]
     },
     "execution_count": 13,
     "metadata": {},
     "output_type": "execute_result"
    }
   ],
   "source": [
    "# First day \n",
    "fordgobike_data_sorted_date[:1]"
   ]
  },
  {
   "cell_type": "code",
   "execution_count": 14,
   "metadata": {
    "slideshow": {
     "slide_type": "skip"
    }
   },
   "outputs": [
    {
     "data": {
      "text/html": [
       "<div>\n",
       "<style scoped>\n",
       "    .dataframe tbody tr th:only-of-type {\n",
       "        vertical-align: middle;\n",
       "    }\n",
       "\n",
       "    .dataframe tbody tr th {\n",
       "        vertical-align: top;\n",
       "    }\n",
       "\n",
       "    .dataframe thead th {\n",
       "        text-align: right;\n",
       "    }\n",
       "</style>\n",
       "<table border=\"1\" class=\"dataframe\">\n",
       "  <thead>\n",
       "    <tr style=\"text-align: right;\">\n",
       "      <th></th>\n",
       "      <th>duration_sec</th>\n",
       "      <th>start_time</th>\n",
       "      <th>end_time</th>\n",
       "      <th>start_station_id</th>\n",
       "      <th>start_station_name</th>\n",
       "      <th>end_station_id</th>\n",
       "      <th>end_station_name</th>\n",
       "      <th>user_type</th>\n",
       "      <th>member_birth_year</th>\n",
       "      <th>member_gender</th>\n",
       "      <th>Enrolled_in_Bike_Share_Program</th>\n",
       "      <th>member_age</th>\n",
       "    </tr>\n",
       "  </thead>\n",
       "  <tbody>\n",
       "    <tr>\n",
       "      <th>15</th>\n",
       "      <td>208</td>\n",
       "      <td>2019-02-28 23:59:18.548</td>\n",
       "      <td>2019-03-01 00:02:47.228</td>\n",
       "      <td>349</td>\n",
       "      <td>Howard St at Mary St</td>\n",
       "      <td>60</td>\n",
       "      <td>8th St at Ringold St</td>\n",
       "      <td>Subscriber</td>\n",
       "      <td>1993</td>\n",
       "      <td>Male</td>\n",
       "      <td>Yes</td>\n",
       "      <td>28</td>\n",
       "    </tr>\n",
       "  </tbody>\n",
       "</table>\n",
       "</div>"
      ],
      "text/plain": [
       "    duration_sec              start_time                end_time  \\\n",
       "15           208 2019-02-28 23:59:18.548 2019-03-01 00:02:47.228   \n",
       "\n",
       "    start_station_id    start_station_name  end_station_id  \\\n",
       "15               349  Howard St at Mary St              60   \n",
       "\n",
       "        end_station_name   user_type  member_birth_year member_gender  \\\n",
       "15  8th St at Ringold St  Subscriber               1993          Male   \n",
       "\n",
       "   Enrolled_in_Bike_Share_Program  member_age  \n",
       "15                            Yes          28  "
      ]
     },
     "execution_count": 14,
     "metadata": {},
     "output_type": "execute_result"
    }
   ],
   "source": [
    "# Last day\n",
    "fordgobike_data_sorted_date[-1:]"
   ]
  },
  {
   "cell_type": "code",
   "execution_count": 15,
   "metadata": {
    "slideshow": {
     "slide_type": "skip"
    }
   },
   "outputs": [],
   "source": [
    "# Seperate the start time and creat a new variable with the start date\n",
    "fordgobike_data['start_day']=fordgobike_data['start_time'].dt.day"
   ]
  },
  {
   "cell_type": "code",
   "execution_count": 16,
   "metadata": {
    "slideshow": {
     "slide_type": "skip"
    }
   },
   "outputs": [],
   "source": [
    "#Change the data type of the start_day to intger\n",
    "fordgobike_data['start_day']=fordgobike_data['start_day'].astype('int64')\n"
   ]
  },
  {
   "cell_type": "code",
   "execution_count": 17,
   "metadata": {
    "slideshow": {
     "slide_type": "skip"
    }
   },
   "outputs": [],
   "source": [
    "# Function to check if the user rent the bike in the weekend or not \n",
    "def Weekend(fordgobike_data):\n",
    "    if fordgobike_data['start_day'] == 2 or fordgobike_data['start_day']== 3 or fordgobike_data['start_day']== 9 or fordgobike_data['start_day']== 10 or  fordgobike_data['start_day']==16 or  fordgobike_data['start_day']==17 or  fordgobike_data['start_day']==23 or  fordgobike_data['start_day']==24:\n",
    "        return 'Yes'\n",
    "    else:\n",
    "        return 'No'\n",
    "        \n"
   ]
  },
  {
   "cell_type": "code",
   "execution_count": 18,
   "metadata": {
    "slideshow": {
     "slide_type": "skip"
    }
   },
   "outputs": [],
   "source": [
    "# Apply the function in the new variable weekend\n",
    "fordgobike_data['Weekend'] = fordgobike_data.apply(Weekend, axis=1)"
   ]
  },
  {
   "cell_type": "code",
   "execution_count": 19,
   "metadata": {
    "slideshow": {
     "slide_type": "skip"
    }
   },
   "outputs": [],
   "source": [
    "def Weekday(fordgobike_data):\n",
    "    if fordgobike_data['start_day'] == 4 or fordgobike_data['start_day']== 11 or fordgobike_data['start_day']== 18 or fordgobike_data['start_day']== 25 :\n",
    "        return 'Monday'    \n",
    "    elif fordgobike_data['start_day'] == 5 or fordgobike_data['start_day']== 12 or fordgobike_data['start_day']== 19 or fordgobike_data['start_day']== 26:\n",
    "        return 'Tuesday'\n",
    "    elif fordgobike_data['start_day'] == 6 or fordgobike_data['start_day']== 13 or fordgobike_data['start_day']== 20 or fordgobike_data['start_day']== 27:\n",
    "        return 'Wednesday'\n",
    "\n",
    "    elif fordgobike_data['start_day'] == 7 or fordgobike_data['start_day']== 14 or fordgobike_data['start_day']== 21 or fordgobike_data['start_day']== 28:\n",
    "        return 'Thursday'\n",
    "\n",
    "    elif fordgobike_data['start_day'] == 1 or fordgobike_data['start_day']== 8 or fordgobike_data['start_day']== 15 or fordgobike_data['start_day']== 22:\n",
    "        return 'Friday'\n",
    "        \n",
    "    elif fordgobike_data['start_day'] == 2 or fordgobike_data['start_day']== 9 or fordgobike_data['start_day']== 16 or fordgobike_data['start_day']== 23:\n",
    "        return 'Saturday'\n",
    "        \n",
    "    elif fordgobike_data['start_day'] == 3 or fordgobike_data['start_day']== 10 or fordgobike_data['start_day']== 17 or fordgobike_data['start_day']== 24:\n",
    "        return 'Sunday'\n"
   ]
  },
  {
   "cell_type": "code",
   "execution_count": 20,
   "metadata": {
    "slideshow": {
     "slide_type": "skip"
    }
   },
   "outputs": [],
   "source": [
    "fordgobike_data['weekday'] = fordgobike_data.apply(Weekday, axis=1)"
   ]
  },
  {
   "cell_type": "markdown",
   "metadata": {
    "slideshow": {
     "slide_type": "slide"
    }
   },
   "source": [
    "## Distribution of the users Age\n",
    "\n",
    "### Increasing the number of users as the increase of the user Age starting from age 20 years old till the peak with maximum nuber of user at age about 30 years old and then start to decrease again and almost there are no users above 80 years old."
   ]
  },
  {
   "cell_type": "code",
   "execution_count": 21,
   "metadata": {
    "slideshow": {
     "slide_type": "subslide"
    }
   },
   "outputs": [
    {
     "data": {
      "image/png": "[encoded data removed]",
      "text/plain": [
       "<Figure size 1152x360 with 1 Axes>"
      ]
     },
     "metadata": {
      "needs_background": "light"
     },
     "output_type": "display_data"
    }
   ],
   "source": [
    "plt.figure(figsize=[16, 5])\n",
    "plt.bar(data = fordgobike_data, x = fordgobike_data['member_age'].value_counts().keys(), height=fordgobike_data['member_age'].value_counts(),width=1)\n",
    "plt.title('Distribution of User Age')\n",
    "plt.xlabel('Age')\n",
    "plt.ylabel('Number of Users')\n",
    "plt.show()"
   ]
  },
  {
   "cell_type": "markdown",
   "metadata": {
    "slideshow": {
     "slide_type": "skip"
    }
   },
   "source": [
    "##  "
   ]
  },
  {
   "cell_type": "markdown",
   "metadata": {
    "slideshow": {
     "slide_type": "slide"
    }
   },
   "source": [
    "## Duration of the Bike trip by user age\n",
    "\n",
    "### Most of the durations are less than 20000 sec and Duration of the bike trip start to decrease at age above 50 years old"
   ]
  },
  {
   "cell_type": "code",
   "execution_count": 22,
   "metadata": {
    "slideshow": {
     "slide_type": "subslide"
    }
   },
   "outputs": [
    {
     "data": {
      "image/png": "[encoded data removed]",
      "text/plain": [
       "<Figure size 1440x432 with 3 Axes>"
      ]
     },
     "metadata": {
      "needs_background": "light"
     },
     "output_type": "display_data"
    }
   ],
   "source": [
    "plt.figure(figsize=[20, 6])\n",
    "plt.subplot(1, 2, 1)\n",
    "sb.regplot(data=fordgobike_data,x='member_age',y='duration_sec',fit_reg=False,truncate=False, x_jitter=0.3)\n",
    "plt.xlabel('Age (years)')\n",
    "plt.ylabel('Duration (sec)');\n",
    "\n",
    "\n",
    "plt.subplot(1, 2, 2)\n",
    "plt.hist2d(data = fordgobike_data, x = 'member_age', y = 'duration_sec', cmin=2, cmap='viridis_r')\n",
    "plt.colorbar()\n",
    "plt.xlabel('Age (years)')\n",
    "plt.ylabel('Duration (sec)');"
   ]
  },
  {
   "cell_type": "markdown",
   "metadata": {
    "slideshow": {
     "slide_type": "skip"
    }
   },
   "source": [
    "##  "
   ]
  },
  {
   "cell_type": "markdown",
   "metadata": {
    "slideshow": {
     "slide_type": "slide"
    }
   },
   "source": [
    "## Duration of the Bike trip over the user Age by user Gender\n",
    "\n",
    "###  It seems that the Men gender at age between 20 and 50 yers old spent more time in their bike trip than Female gender at the same age period"
   ]
  },
  {
   "cell_type": "code",
   "execution_count": 23,
   "metadata": {
    "slideshow": {
     "slide_type": "skip"
    }
   },
   "outputs": [],
   "source": [
    "np.random.seed(2121)\n",
    "fordgobike_data_columns=['duration_sec','member_gender','member_age']\n",
    "fordgobike_data_sample=np.random.choice(fordgobike_data.shape[0],200,replace=False)\n",
    "fordgobike_data_subset=fordgobike_data.reindex(columns =fordgobike_data_columns)"
   ]
  },
  {
   "cell_type": "code",
   "execution_count": 24,
   "metadata": {
    "slideshow": {
     "slide_type": "subslide"
    }
   },
   "outputs": [
    {
     "data": {
      "image/png": "[encoded data removed]",
      "text/plain": [
       "<Figure size 432x288 with 1 Axes>"
      ]
     },
     "metadata": {
      "needs_background": "light"
     },
     "output_type": "display_data"
    }
   ],
   "source": [
    "member_gender = [['Male', 'o'],\n",
    "             ['Female', 's'],\n",
    "             ['Other','X']]\n",
    "\n",
    "for ttype, marker in member_gender:\n",
    "    plot_data = fordgobike_data_subset.loc[fordgobike_data_subset['member_gender']==ttype]\n",
    "    sb.regplot(data = plot_data, x = 'member_age', y = 'duration_sec',fit_reg=False, marker = marker)\n",
    "    \n",
    "plt.legend(['Male','Female','Other'])\n",
    "plt.xlabel('Age (years)')\n",
    "plt.ylabel('Duration (sec)');"
   ]
  },
  {
   "cell_type": "markdown",
   "metadata": {
    "slideshow": {
     "slide_type": "skip"
    }
   },
   "source": [
    "##  "
   ]
  },
  {
   "cell_type": "markdown",
   "metadata": {
    "slideshow": {
     "slide_type": "slide"
    }
   },
   "source": [
    "## Duration of the Bike trip over the user Age by user Gender\n",
    "\n",
    "### Both Customer users and Suscriber User showing similar distribution of the age and as expected Suscriber represent more Users than Customers\n"
   ]
  },
  {
   "cell_type": "code",
   "execution_count": 25,
   "metadata": {
    "slideshow": {
     "slide_type": "skip"
    }
   },
   "outputs": [],
   "source": [
    "np.random.seed(2121)\n",
    "fordgobike_data_columns=['duration_sec','user_type','member_age']\n",
    "fordgobike_data_sample=np.random.choice(fordgobike_data.shape[0],200,replace=False)\n",
    "fordgobike_data_subset=fordgobike_data.reindex(columns =fordgobike_data_columns)\n"
   ]
  },
  {
   "cell_type": "code",
   "execution_count": 26,
   "metadata": {
    "slideshow": {
     "slide_type": "subslide"
    }
   },
   "outputs": [
    {
     "data": {
      "image/png": "[encoded data removed]",
      "text/plain": [
       "<Figure size 432x288 with 1 Axes>"
      ]
     },
     "metadata": {
      "needs_background": "light"
     },
     "output_type": "display_data"
    }
   ],
   "source": [
    "user_type = [['Customer', 'o'],\n",
    "               ['Subscriber', 's']]\n",
    "\n",
    "for ttype, marker in user_type:\n",
    "    plot_data = fordgobike_data_subset.loc[fordgobike_data_subset['user_type']==ttype]\n",
    "    sb.regplot(data = plot_data, x = 'member_age', y = 'duration_sec',fit_reg=False, marker = marker)\n",
    "    \n",
    "plt.legend(['Customer','Subscriber'])\n",
    "plt.xlabel('Age (years)')\n",
    "plt.ylabel('Duration (sec)');"
   ]
  },
  {
   "cell_type": "markdown",
   "metadata": {
    "slideshow": {
     "slide_type": "skip"
    }
   },
   "source": [
    "##  "
   ]
  },
  {
   "cell_type": "markdown",
   "metadata": {
    "slideshow": {
     "slide_type": "slide"
    }
   },
   "source": [
    "## Count of bike-users by weekday type \n",
    "\n",
    "### Only 16.5 precent of the users started their riding in the weekend and the other during druing the week, That was not expecting as the people in the weekend have more time. The busiest day is Thursday which more users choosed this day to start their riding."
   ]
  },
  {
   "cell_type": "code",
   "execution_count": 27,
   "metadata": {
    "slideshow": {
     "slide_type": "subslide"
    }
   },
   "outputs": [
    {
     "data": {
      "image/png": "[encoded data removed]",
      "text/plain": [
       "<Figure size 1440x432 with 2 Axes>"
      ]
     },
     "metadata": {
      "needs_background": "light"
     },
     "output_type": "display_data"
    }
   ],
   "source": [
    "plt.figure(figsize=[20, 6])\n",
    "plt.subplot(1, 2, 1)\n",
    "sorted_counts =fordgobike_data['Weekend'].value_counts()\n",
    "plt.pie(sorted_counts ,labels=sorted_counts.index,autopct='%1.1f%%',startangle=90 , counterclock = False)\n",
    "plt.title('Weekend_Startday');\n",
    "           \n",
    "plt.subplot(1, 2, 2)\n",
    "x=fordgobike_data['weekday'].unique()\n",
    "y=fordgobike_data['weekday'].value_counts()\n",
    "plt.bar(x,y)\n",
    "plt.xlabel('week days')\n",
    "plt.ylabel('Number of Users')\n",
    "plt.title('Distribution of Buisiest day')\n",
    "plt.xticks(rotation=25);"
   ]
  },
  {
   "cell_type": "markdown",
   "metadata": {
    "slideshow": {
     "slide_type": "skip"
    }
   },
   "source": [
    "##    "
   ]
  },
  {
   "cell_type": "markdown",
   "metadata": {
    "slideshow": {
     "slide_type": "skip"
    }
   },
   "source": [
    "!jupyter nbconvert Ford_GoBike_Visualization.ipynb --to slides --post serve --template output_toggle\n"
   ]
  },
  {
   "cell_type": "markdown",
   "metadata": {
    "slideshow": {
     "slide_type": "skip"
    }
   },
   "source": [
    "> Once you're ready to finish your presentation, check your output by using\n",
    "nbconvert to export the notebook and set up a server for the slides. From the\n",
    "terminal or command line, use the following expression:\n",
    "> > `jupyter nbconvert <file_name>.ipynb --to slides --post serve --template output_toggle`\n",
    "\n",
    "> This should open a tab in your web browser where you can scroll through your\n",
    "presentation. Sub-slides can be accessed by pressing 'down' when viewing its parent\n",
    "slide. Make sure you remove all of the quote-formatted guide notes like this one\n",
    "before you finish your presentation!"
   ]
  },
  {
   "cell_type": "code",
   "execution_count": 32,
   "metadata": {
    "slideshow": {
     "slide_type": "skip"
    }
   },
   "outputs": [
    {
     "name": "stdout",
     "output_type": "stream",
     "text": [
      "[NbConvertApp] Converting notebook Ford_GoBike_Visualization.ipynb to slides\n",
      "[NbConvertApp] Writing 446123 bytes to Ford_GoBike_Visualization.slides.html\n"
     ]
    }
   ],
   "source": [
    "!jupyter nbconvert Ford_GoBike_Visualization.ipynb --to slides --no-input\n"
   ]
  },
  {
   "cell_type": "code",
   "execution_count": null,
   "metadata": {},
   "outputs": [],
   "source": []
  }
 ],
 "metadata": {
  "celltoolbar": "Slideshow",
  "kernelspec": {
   "display_name": "FHWS vLab Python 3",
   "language": "python",
   "name": "python3"
  },
  "language_info": {
   "codemirror_mode": {
    "name": "ipython",
    "version": 3
   },
   "file_extension": ".py",
   "mimetype": "text/x-python",
   "name": "python",
   "nbconvert_exporter": "python",
   "pygments_lexer": "ipython3",
   "version": "3.8.3"
  }
 },
 "nbformat": 4,
 "nbformat_minor": 4
}
